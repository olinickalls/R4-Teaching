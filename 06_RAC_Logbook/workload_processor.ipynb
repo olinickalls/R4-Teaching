{
 "cells": [
  {
   "cell_type": "markdown",
   "id": "01a2710f",
   "metadata": {},
   "source": [
    "## Load Workload stats XLS and convert to RAC logbook format\n",
    "\n",
    "#### Converting workload stats into RAC format is a real pain....\n",
    "\n",
    "<img src='images/workload_excel.jpg' width=\"800\" height=\"400\">\n",
    "\n",
    "<img src='images/workload_rac.jpg' width=\"800\" height=\"400\">"
   ]
  },
  {
   "cell_type": "markdown",
   "id": "034773aa",
   "metadata": {},
   "source": [
    "## This is where we can use Python!\n",
    "\n",
    "<img src='images/automate_boring_stuff.jpg' width=500>"
   ]
  },
  {
   "cell_type": "markdown",
   "id": "8be6aba5",
   "metadata": {},
   "source": [
    "#### Let's get started by loading the data from the Excel file using the Pandas library\n",
    "\n",
    "We'll open `sample.xlsx`, and display the contents"
   ]
  },
  {
   "cell_type": "code",
   "execution_count": 5,
   "id": "c9d5bc53",
   "metadata": {},
   "outputs": [
    {
     "name": "stdout",
     "output_type": "stream",
     "text": [
      "                Modality                                     Procedure Name  \\\n",
      "1    Computed Tomography                      CT Aortogram (Chest, Abdomen)   \n",
      "2    Computed Tomography                                         CT Abdomen   \n",
      "3    Computed Tomography                                         CT Kidneys   \n",
      "4    Computed Tomography                                           CT Liver   \n",
      "5    Computed Tomography                                        CT Pancreas   \n",
      "..                   ...                                                ...   \n",
      "168    Radio Fluoroscopy                      Operating Theatre Fluoroscopy   \n",
      "169    Radio Fluoroscopy              Fluoroscopy for Transbronchial Biopsy   \n",
      "170    Radio Fluoroscopy                    Video Fluoroscopy Swallow Study   \n",
      "171    Radio Fluoroscopy  Water-soluble Contrast follow through for adhe...   \n",
      "173           Ultrasound                                  US Pelvis, Female   \n",
      "\n",
      "    RVU Per Procedure  Paediatric cases  Adult Cases  Other Cases  Total Read  \\\n",
      "1                   1               0.0          2.0          0.0         2.0   \n",
      "2                   1               0.0          4.0          0.0         4.0   \n",
      "3                   1               0.0          3.0          0.0         3.0   \n",
      "4                   1               0.0          2.0          0.0         2.0   \n",
      "5                   1               0.0          1.0          0.0         1.0   \n",
      "..                ...               ...          ...          ...         ...   \n",
      "168                 1               1.0         74.0          0.0        75.0   \n",
      "169                 1               0.0          3.0          0.0         3.0   \n",
      "170                 1               0.0         12.0          0.0        12.0   \n",
      "171                 1               0.0          3.0          0.0         3.0   \n",
      "173                 1               0.0          1.0          0.0         1.0   \n",
      "\n",
      "     RVU * Total Count  \n",
      "1                  2.0  \n",
      "2                  4.0  \n",
      "3                  3.0  \n",
      "4                  2.0  \n",
      "5                  1.0  \n",
      "..                 ...  \n",
      "168               75.0  \n",
      "169                3.0  \n",
      "170               12.0  \n",
      "171                3.0  \n",
      "173                1.0  \n",
      "\n",
      "[169 rows x 8 columns]\n"
     ]
    }
   ],
   "source": [
    "import pandas as pd\n",
    "\n",
    "xls_file = 'sample.xlsx'\n",
    "df = pd.read_excel(xls_file, header=2)\n",
    "\n",
    "df = df.dropna()\n",
    "\n",
    "print(df)"
   ]
  },
  {
   "cell_type": "markdown",
   "id": "76db3ed3",
   "metadata": {},
   "source": [
    "##### This quite busy.  Let's simplify by only keeping the columns we care about\n",
    "\n",
    "##### and only keeping the CT cases\n",
    "\n"
   ]
  },
  {
   "cell_type": "code",
   "execution_count": 6,
   "id": "416e8a63",
   "metadata": {},
   "outputs": [
    {
     "name": "stdout",
     "output_type": "stream",
     "text": [
      "               Modality                    Procedure Name  Total Read\n",
      "1   Computed Tomography     CT Aortogram (Chest, Abdomen)         2.0\n",
      "2   Computed Tomography                        CT Abdomen         4.0\n",
      "3   Computed Tomography                        CT Kidneys         3.0\n",
      "4   Computed Tomography                          CT Liver         2.0\n",
      "5   Computed Tomography                       CT Pancreas         1.0\n",
      "6   Computed Tomography             CT Abdomen and Pelvis        56.0\n",
      "7   Computed Tomography           CT Aortogram (Thoracic)         2.0\n",
      "8   Computed Tomography             CT Coronary Angiogram         1.0\n",
      "9   Computed Tomography           CT Mesenteric Angiogram         3.0\n",
      "10  Computed Tomography                          CT Brain       119.0\n",
      "11  Computed Tomography                          CT Chest        18.0\n",
      "12  Computed Tomography              CT Chest and Abdomen         1.0\n",
      "13  Computed Tomography      CT Chest, Abdomen and Pelvis        22.0\n",
      "14  Computed Tomography         CT Chest, High Resolution         2.0\n",
      "15  Computed Tomography  CT Chest (Pulmonary Angiography)         6.0\n",
      "16  Computed Tomography                     CT Chest Wall         1.0\n",
      "17  Computed Tomography             CT Face (Facial Bone)         6.0\n",
      "18  Computed Tomography                     CT Right Foot         1.0\n",
      "19  Computed Tomography                      CT Urography         7.0\n",
      "20  Computed Tomography                      CT Left Knee         1.0\n",
      "21  Computed Tomography                  CT Temporal Bone         3.0\n",
      "22  Computed Tomography                           CT Neck        20.0\n",
      "23  Computed Tomography                   CT Colonography         1.0\n",
      "24  Computed Tomography                         CT Pelvis         1.0\n",
      "25  Computed Tomography                    CT Pelvis Bony         1.0\n",
      "26  Computed Tomography       CT Salivary Glands, Parotid         3.0\n",
      "27  Computed Tomography              CT Paranasal Sinuses         7.0\n",
      "28  Computed Tomography                 CT Cervical Spine         2.0\n",
      "29  Computed Tomography             CT KUB (Non Contrast)         7.0\n",
      "30  Computed Tomography                    CT Right Wrist         1.0\n"
     ]
    }
   ],
   "source": [
    "df = df[['Modality', 'Procedure Name', 'Total Read']]\n",
    "\n",
    "df_ct = df[df['Modality'] == 'Computed Tomography']\n",
    "\n",
    "print(df_ct)\n"
   ]
  },
  {
   "cell_type": "markdown",
   "id": "bb72d9d0",
   "metadata": {},
   "source": [
    "### Now it's much easier to see what is going on.\n",
    "\n",
    "##### Next: How to group which procedures into which RAC bucket? <img src='images/round_peg.jpg' width=300>\n",
    "\n",
    "We need to match the procedure names into one (or more) of the RAC buckets.\n",
    "\n",
    "--disclaimer-- I made this bit up.  Do not use this method for your own data..."
   ]
  },
  {
   "cell_type": "code",
   "execution_count": 8,
   "id": "40204512",
   "metadata": {},
   "outputs": [],
   "source": [
    "lookup_dict = {\n",
    "    'CT Aortogram (Chest, Abdomen)': ['Aortogram'],\n",
    "    'CT Abdomen': ['Abodmen (GI)'],\n",
    "    'CT Kidneys': ['Urinary'],\n",
    "    'CT Liver': ['Abodmen (GI)'],\n",
    "    'CT Pancreas': ['Abodmen (GI)'],\n",
    "    'CT Abdomen and Pelvis': ['Abodmen (GI)', 'Pelvis'],\n",
    "    'CT Aortogram (Thoracic)': ['Aortogram'],\n",
    "    'CT Coronary Angiogram': ['Coronary'],\n",
    "    'CT Mesenteric Angiogram': ['Aortogram'],\n",
    "    'CT Brain': ['Brain'],\n",
    "    'CT Chest': ['Thorax'],\n",
    "    'CT Chest and Abdomen': ['Thorax','Abdomen (GI)'],\n",
    "    'CT Chest, Abdomen and Pelvis': ['Thorax', 'Abdomen (GI)', 'Pelvis'],\n",
    "    'CT Chest, High Resolution': ['HRCT'],\n",
    "    'CT Chest (Pulmonary Angiography)': ['Pulm Angio'],\n",
    "    'CT Chest Wall': ['Thorax'],\n",
    "    'CT Face (Facial Bone)': ['Head & Neck'],\n",
    "    'CT Right Foot': ['Limbs'],\n",
    "    'CT Urography': ['Urinary'],\n",
    "    'CT Left Knee': ['Limbs'],\n",
    "    'CT Temporal Bone': ['Head & Neck'],\n",
    "    'CT Neck': ['Head & Neck'],\n",
    "    'CT Colonography': ['CT Colono'],\n",
    "    'CT Pelvis': ['Pelvis'],\n",
    "    'CT Pelvis Bony': ['Pelvis'],\n",
    "    'CT Salivary Glands, Parotid': ['Head & Neck'],\n",
    "    'CT Paranasal Sinuses': ['Head & Neck'],\n",
    "    'CT Cervical Spine': ['Spine'],\n",
    "    'CT KUB (Non Contrast)': ['Urinary'],\n",
    "    'CT Right Wrist': ['Limbs'],\n",
    "}"
   ]
  },
  {
   "cell_type": "code",
   "execution_count": 9,
   "id": "e6cb69a8",
   "metadata": {},
   "outputs": [
    {
     "data": {
      "text/plain": [
       "['Limbs']"
      ]
     },
     "execution_count": 9,
     "metadata": {},
     "output_type": "execute_result"
    }
   ],
   "source": [
    "lookup_dict['CT Right Wrist']"
   ]
  },
  {
   "cell_type": "code",
   "execution_count": 10,
   "id": "b286e545",
   "metadata": {},
   "outputs": [
    {
     "data": {
      "text/plain": [
       "['Thorax', 'Abdomen (GI)', 'Pelvis']"
      ]
     },
     "execution_count": 10,
     "metadata": {},
     "output_type": "execute_result"
    }
   ],
   "source": [
    "lookup_dict['CT Chest, Abdomen and Pelvis']"
   ]
  },
  {
   "cell_type": "code",
   "execution_count": 11,
   "id": "baa94f57",
   "metadata": {
    "scrolled": true
   },
   "outputs": [
    {
     "name": "stdout",
     "output_type": "stream",
     "text": [
      "\tThorax\n",
      "\tAbdomen (GI)\n",
      "\tPelvis\n"
     ]
    }
   ],
   "source": [
    "for item in lookup_dict['CT Chest, Abdomen and Pelvis']:\n",
    "    print(f'\\t{item}')"
   ]
  },
  {
   "cell_type": "markdown",
   "id": "efe525ca",
   "metadata": {},
   "source": [
    "#### So we can associate the Procedure Name with the destination(s) within `lookup_dict`\n",
    "\n",
    "<img src='images/lookup_diag.jpg' width=800>\n",
    "\n",
    "#### Now we set up a different kind of dictionary where we can store our output data\n",
    "\n",
    "This is a convenience which reduces complexity later on."
   ]
  },
  {
   "cell_type": "code",
   "execution_count": 12,
   "id": "bf21edd1",
   "metadata": {},
   "outputs": [],
   "source": [
    "from collections import defaultdict\n",
    "\n",
    "def default_value():\n",
    "    return 0\n",
    "\n",
    "rac = defaultdict(default_value)\n"
   ]
  },
  {
   "cell_type": "code",
   "execution_count": 13,
   "id": "b3198365",
   "metadata": {},
   "outputs": [
    {
     "name": "stdout",
     "output_type": "stream",
     "text": [
      "dict_keys([])\n",
      "0\n",
      "dict_keys(['Brain'])\n"
     ]
    }
   ],
   "source": [
    "print( rac.keys() )\n",
    "print( rac['Brain'] )\n",
    "print( rac.keys() )"
   ]
  },
  {
   "cell_type": "markdown",
   "id": "2650155a",
   "metadata": {},
   "source": [
    "#### This is actual work of the algorithm here:\n",
    "\n",
    "We iterate through the list of studies reported, and show where the number of studies will be added to."
   ]
  },
  {
   "cell_type": "code",
   "execution_count": 14,
   "id": "61c71d06",
   "metadata": {
    "scrolled": false
   },
   "outputs": [
    {
     "name": "stdout",
     "output_type": "stream",
     "text": [
      "1. CT Aortogram (Chest, Abdomen) \t\t+ 2 to: ['Aortogram']\n",
      "2. CT Abdomen                    \t\t+ 4 to: ['Abodmen (GI)']\n",
      "3. CT Kidneys                    \t\t+ 3 to: ['Urinary']\n",
      "4. CT Liver                      \t\t+ 2 to: ['Abodmen (GI)']\n",
      "5. CT Pancreas                   \t\t+ 1 to: ['Abodmen (GI)']\n",
      "6. CT Abdomen and Pelvis         \t\t+ 56 to: ['Abodmen (GI)', 'Pelvis']\n",
      "7. CT Aortogram (Thoracic)       \t\t+ 2 to: ['Aortogram']\n",
      "8. CT Coronary Angiogram         \t\t+ 1 to: ['Coronary']\n",
      "9. CT Mesenteric Angiogram       \t\t+ 3 to: ['Aortogram']\n",
      "10. CT Brain                      \t\t+ 119 to: ['Brain']\n",
      "11. CT Chest                      \t\t+ 18 to: ['Thorax']\n",
      "12. CT Chest and Abdomen          \t\t+ 1 to: ['Thorax', 'Abdomen (GI)']\n",
      "13. CT Chest, Abdomen and Pelvis  \t\t+ 22 to: ['Thorax', 'Abdomen (GI)', 'Pelvis']\n",
      "14. CT Chest, High Resolution     \t\t+ 2 to: ['HRCT']\n",
      "15. CT Chest (Pulmonary Angiography)\t\t+ 6 to: ['Pulm Angio']\n",
      "16. CT Chest Wall                 \t\t+ 1 to: ['Thorax']\n",
      "17. CT Face (Facial Bone)         \t\t+ 6 to: ['Head & Neck']\n",
      "18. CT Right Foot                 \t\t+ 1 to: ['Limbs']\n",
      "19. CT Urography                  \t\t+ 7 to: ['Urinary']\n",
      "20. CT Left Knee                  \t\t+ 1 to: ['Limbs']\n",
      "21. CT Temporal Bone              \t\t+ 3 to: ['Head & Neck']\n",
      "22. CT Neck                       \t\t+ 20 to: ['Head & Neck']\n",
      "23. CT Colonography               \t\t+ 1 to: ['CT Colono']\n",
      "24. CT Pelvis                     \t\t+ 1 to: ['Pelvis']\n",
      "25. CT Pelvis Bony                \t\t+ 1 to: ['Pelvis']\n",
      "26. CT Salivary Glands, Parotid   \t\t+ 3 to: ['Head & Neck']\n",
      "27. CT Paranasal Sinuses          \t\t+ 7 to: ['Head & Neck']\n",
      "28. CT Cervical Spine             \t\t+ 2 to: ['Spine']\n",
      "29. CT KUB (Non Contrast)         \t\t+ 7 to: ['Urinary']\n",
      "30. CT Right Wrist                \t\t+ 1 to: ['Limbs']\n"
     ]
    }
   ],
   "source": [
    "# loop through input workload and add to the dict\n",
    "\n",
    "ct_only = df[df['Modality']=='Computed Tomography']\n",
    "\n",
    "for idx, row in ct_only.iterrows():\n",
    "    p_name = lookup_dict[row['Procedure Name']]\n",
    "    print(f\"{idx}. {row['Procedure Name']:<30}\\t\\t+ {row['Total Read']:.0f} to: {p_name}\")"
   ]
  },
  {
   "cell_type": "markdown",
   "id": "0247b8fe",
   "metadata": {},
   "source": [
    "<img src='images/lookup_diag2.jpg' width=800>"
   ]
  },
  {
   "cell_type": "code",
   "execution_count": 15,
   "id": "d5da0010",
   "metadata": {},
   "outputs": [
    {
     "name": "stdout",
     "output_type": "stream",
     "text": [
      "1. CT Aortogram (Chest, Abdomen) \n",
      "                                        Aortogram\t+ 2\n",
      "2. CT Abdomen                    \n",
      "                                        Abodmen (GI)\t+ 4\n",
      "3. CT Kidneys                    \n",
      "                                        Urinary\t+ 3\n",
      "4. CT Liver                      \n",
      "                                        Abodmen (GI)\t+ 2\n",
      "5. CT Pancreas                   \n",
      "                                        Abodmen (GI)\t+ 1\n",
      "6. CT Abdomen and Pelvis         \n",
      "                                        Abodmen (GI)\t+ 56\n",
      "                                        Pelvis\t+ 56\n",
      "7. CT Aortogram (Thoracic)       \n",
      "                                        Aortogram\t+ 2\n",
      "8. CT Coronary Angiogram         \n",
      "                                        Coronary\t+ 1\n",
      "9. CT Mesenteric Angiogram       \n",
      "                                        Aortogram\t+ 3\n",
      "10. CT Brain                      \n",
      "                                        Brain\t+ 119\n",
      "11. CT Chest                      \n",
      "                                        Thorax\t+ 18\n",
      "12. CT Chest and Abdomen          \n",
      "                                        Thorax\t+ 1\n",
      "                                        Abdomen (GI)\t+ 1\n",
      "13. CT Chest, Abdomen and Pelvis  \n",
      "                                        Thorax\t+ 22\n",
      "                                        Abdomen (GI)\t+ 22\n",
      "                                        Pelvis\t+ 22\n",
      "14. CT Chest, High Resolution     \n",
      "                                        HRCT\t+ 2\n",
      "15. CT Chest (Pulmonary Angiography)\n",
      "                                        Pulm Angio\t+ 6\n",
      "16. CT Chest Wall                 \n",
      "                                        Thorax\t+ 1\n",
      "17. CT Face (Facial Bone)         \n",
      "                                        Head & Neck\t+ 6\n",
      "18. CT Right Foot                 \n",
      "                                        Limbs\t+ 1\n",
      "19. CT Urography                  \n",
      "                                        Urinary\t+ 7\n",
      "20. CT Left Knee                  \n",
      "                                        Limbs\t+ 1\n",
      "21. CT Temporal Bone              \n",
      "                                        Head & Neck\t+ 3\n",
      "22. CT Neck                       \n",
      "                                        Head & Neck\t+ 20\n",
      "23. CT Colonography               \n",
      "                                        CT Colono\t+ 1\n",
      "24. CT Pelvis                     \n",
      "                                        Pelvis\t+ 1\n",
      "25. CT Pelvis Bony                \n",
      "                                        Pelvis\t+ 1\n",
      "26. CT Salivary Glands, Parotid   \n",
      "                                        Head & Neck\t+ 3\n",
      "27. CT Paranasal Sinuses          \n",
      "                                        Head & Neck\t+ 7\n",
      "28. CT Cervical Spine             \n",
      "                                        Spine\t+ 2\n",
      "29. CT KUB (Non Contrast)         \n",
      "                                        Urinary\t+ 7\n",
      "30. CT Right Wrist                \n",
      "                                        Limbs\t+ 1\n"
     ]
    }
   ],
   "source": [
    "# loop through input workload and add to the dict\n",
    "\n",
    "ct_only = df[df['Modality']=='Computed Tomography']\n",
    "\n",
    "for idx, row in ct_only.iterrows():\n",
    "    p_name = lookup_dict[row['Procedure Name']]\n",
    "    print(f\"{idx}. {row['Procedure Name']:<30}\")#   \\t\\tAdd to column: {p_name}\")\n",
    "\n",
    "    for rac_bucket in p_name:\n",
    "        print(f'{40*\" \"}{rac_bucket}\\t+ {row[\"Total Read\"]:.0f}')\n"
   ]
  },
  {
   "cell_type": "code",
   "execution_count": 16,
   "id": "c6db2e2f",
   "metadata": {},
   "outputs": [
    {
     "data": {
      "text/plain": [
       "defaultdict(<function __main__.default_value()>,\n",
       "            {'Aortogram': 7,\n",
       "             'Abodmen (GI)': 63,\n",
       "             'Urinary': 17,\n",
       "             'Pelvis': 80,\n",
       "             'Coronary': 1,\n",
       "             'Brain': 119,\n",
       "             'Thorax': 42,\n",
       "             'Abdomen (GI)': 23,\n",
       "             'HRCT': 2,\n",
       "             'Pulm Angio': 6,\n",
       "             'Head & Neck': 39,\n",
       "             'Limbs': 3,\n",
       "             'CT Colono': 1,\n",
       "             'Spine': 2})"
      ]
     },
     "execution_count": 16,
     "metadata": {},
     "output_type": "execute_result"
    }
   ],
   "source": [
    "# Re-define this - reset our  back to zero\n",
    "rac = defaultdict(default_value)\n",
    "\n",
    "# loop through input workload and add to the dict\n",
    "\n",
    "ct_only = df[df['Modality']=='Computed Tomography']\n",
    "\n",
    "for idx, row in ct_only.iterrows():\n",
    "    p_name = lookup_dict[row['Procedure Name']]\n",
    "\n",
    "    for col in p_name:\n",
    "        rac[col] = int(rac[col] + row['Total Read'])\n",
    "\n",
    "rac"
   ]
  },
  {
   "cell_type": "code",
   "execution_count": 17,
   "id": "934f59fe",
   "metadata": {},
   "outputs": [
    {
     "data": {
      "text/html": [
       "<div>\n",
       "<style scoped>\n",
       "    .dataframe tbody tr th:only-of-type {\n",
       "        vertical-align: middle;\n",
       "    }\n",
       "\n",
       "    .dataframe tbody tr th {\n",
       "        vertical-align: top;\n",
       "    }\n",
       "\n",
       "    .dataframe thead th {\n",
       "        text-align: right;\n",
       "    }\n",
       "</style>\n",
       "<table border=\"1\" class=\"dataframe\">\n",
       "  <thead>\n",
       "    <tr style=\"text-align: right;\">\n",
       "      <th></th>\n",
       "      <th>Aortogram</th>\n",
       "      <th>Abodmen (GI)</th>\n",
       "      <th>Urinary</th>\n",
       "      <th>Pelvis</th>\n",
       "      <th>Coronary</th>\n",
       "      <th>Brain</th>\n",
       "      <th>Thorax</th>\n",
       "      <th>Abdomen (GI)</th>\n",
       "      <th>HRCT</th>\n",
       "      <th>Pulm Angio</th>\n",
       "      <th>Head &amp; Neck</th>\n",
       "      <th>Limbs</th>\n",
       "      <th>CT Colono</th>\n",
       "      <th>Spine</th>\n",
       "    </tr>\n",
       "  </thead>\n",
       "  <tbody>\n",
       "    <tr>\n",
       "      <th>0</th>\n",
       "      <td>7</td>\n",
       "      <td>63</td>\n",
       "      <td>17</td>\n",
       "      <td>80</td>\n",
       "      <td>1</td>\n",
       "      <td>119</td>\n",
       "      <td>42</td>\n",
       "      <td>23</td>\n",
       "      <td>2</td>\n",
       "      <td>6</td>\n",
       "      <td>39</td>\n",
       "      <td>3</td>\n",
       "      <td>1</td>\n",
       "      <td>2</td>\n",
       "    </tr>\n",
       "  </tbody>\n",
       "</table>\n",
       "</div>"
      ],
      "text/plain": [
       "   Aortogram  Abodmen (GI)  Urinary  Pelvis  Coronary  Brain  Thorax  \\\n",
       "0          7            63       17      80         1    119      42   \n",
       "\n",
       "   Abdomen (GI)  HRCT  Pulm Angio  Head & Neck  Limbs  CT Colono  Spine  \n",
       "0            23     2           6           39      3          1      2  "
      ]
     },
     "execution_count": 17,
     "metadata": {},
     "output_type": "execute_result"
    }
   ],
   "source": [
    "rac_df = pd.DataFrame(rac, index=[0])\n",
    "rac_df"
   ]
  },
  {
   "cell_type": "markdown",
   "id": "c0b2cd6e",
   "metadata": {},
   "source": [
    "# Great!  But what which quarter of which year is this data from?\n",
    "\n",
    "### We can't access this info from the data we have loaded above, so we need to access the XLS in a slightly\n",
    "\n",
    "### different way - this allows us to see the 'raw' data in the excel sheet.\n",
    "\n",
    "<img src='images/workload_excel.jpg' width=\"800\" height=\"400\">\n"
   ]
  },
  {
   "cell_type": "code",
   "execution_count": 18,
   "id": "dfe2ce00",
   "metadata": {},
   "outputs": [
    {
     "data": {
      "text/plain": [
       "'Approved Date Period:01/01/2022 to 31/03/2022'"
      ]
     },
     "execution_count": 18,
     "metadata": {},
     "output_type": "execute_result"
    }
   ],
   "source": [
    "import openpyxl\n",
    "\n",
    "wb_obj = openpyxl.load_workbook(xls_file)\n",
    " \n",
    "# Get workbook active sheet object from the active attribute\n",
    "sheet_obj = wb_obj.active\n",
    "\n",
    "sheet_obj['B1'].value"
   ]
  },
  {
   "cell_type": "code",
   "execution_count": 19,
   "id": "ea7c5080",
   "metadata": {},
   "outputs": [
    {
     "name": "stdout",
     "output_type": "stream",
     "text": [
      "Dr Dave (12345A)\n"
     ]
    }
   ],
   "source": [
    "print(sheet_obj['A4'].value)"
   ]
  },
  {
   "cell_type": "markdown",
   "id": "31bea48e",
   "metadata": {},
   "source": [
    "### OK: Cell B1 holds the dates, and A4 holds the resident name & MCR\n",
    "\n",
    "##### Getting the name will be easy - we're not going to bother separating MCR out"
   ]
  },
  {
   "cell_type": "code",
   "execution_count": 20,
   "id": "76628dd2",
   "metadata": {},
   "outputs": [],
   "source": [
    "rac['Name'] = sheet_obj['A4'].value\n"
   ]
  },
  {
   "cell_type": "markdown",
   "id": "bb3df95e",
   "metadata": {},
   "source": [
    "### Extracting and interpreting the dates in B1 is a bit harder, but not much!\n",
    "\n",
    "##### The library `datefinder` makes this hugely easy.  We just feed the string with both dates in, and we get the computer friendly version of BOTH dates coming out!"
   ]
  },
  {
   "cell_type": "code",
   "execution_count": 23,
   "id": "9b1a2276",
   "metadata": {},
   "outputs": [
    {
     "name": "stdout",
     "output_type": "stream",
     "text": [
      "Input:  Approved Date Period:01/01/2022 to 31/03/2022\n",
      "Output: [datetime.datetime(2022, 1, 1, 0, 0), datetime.datetime(2022, 3, 31, 0, 0)]\n"
     ]
    }
   ],
   "source": [
    "import datefinder\n",
    "import datetime as dt\n",
    "\n",
    "# input_string = \"I starting working on July 3rd 1997 8am, after which I gave up on 09 Dec 2005 3:45pm.  Working was no fun.\"\n",
    "input_string = sheet_obj['B1'].value\n",
    "\n",
    "date_list = list(datefinder.find_dates(input_string))\n",
    "print(f'Input:  {input_string}')\n",
    "print(f'Output: {date_list}')"
   ]
  },
  {
   "cell_type": "markdown",
   "id": "1d96bf24",
   "metadata": {},
   "source": [
    "#### Before we set the results in stone, we should check our dates first.  Do we have data from dates that will fit into the RAC expectations?  If not we will have to re-extract.  That is a pain.\n",
    "\n",
    "#### Let's check, and turn it into a nice way to generate the 'Date' column text.\n",
    "\n",
    "#### We want to end up with 'YYYY Qn' e.g. '2021 Q3'"
   ]
  },
  {
   "cell_type": "code",
   "execution_count": 25,
   "id": "707d04fa",
   "metadata": {},
   "outputs": [
    {
     "name": "stdout",
     "output_type": "stream",
     "text": [
      "a:01-01-2022, b:31-03-2022 (DD-MM-YYYY)\n"
     ]
    },
    {
     "data": {
      "text/plain": [
       "'2022 Q1'"
      ]
     },
     "execution_count": 25,
     "metadata": {},
     "output_type": "execute_result"
    }
   ],
   "source": [
    "# These are the 2 dates from above\n",
    "a = date_list[0]\n",
    "b = date_list[1]\n",
    "print(f'a:{a:%d-%m-%Y}, b:{b:%d-%m-%Y} (DD-MM-YYYY)')\n",
    "\n",
    "# This function will check the years match, and that both dates are within the same quarter\n",
    "# Then will return the 'YYYY Qn' that we want\n",
    "def get_q(a, b):\n",
    "    if a.year != b.year:\n",
    "        print('[get_q] Different Years')\n",
    "        return f'{a:%d-%m-%Y} --> {b:%d-%m-%Y}'\n",
    "    else:\n",
    "        if a.month in [1,2,3] and b.month in [1,2,3]:\n",
    "            q = 'Q1'\n",
    "        elif a.month in [4,5,6] and b.month in [4,5,6]:\n",
    "            q = 'Q2'\n",
    "        elif a.month in [7,8,9] and b.month in [7,8,9]:\n",
    "            q = 'Q3'\n",
    "        elif a.month in [10,11,12] and b.month in [10,11,12]:\n",
    "            q = 'Q4'\n",
    "        else:\n",
    "            print('[get_q] Different quarters')\n",
    "            return f'{a:%d-%m-%Y} --> {b:%d-%m-%Y}'\n",
    "        return f'{a.year} {q}'\n",
    "\n",
    "    \n",
    "get_q(date_list[0], date_list[1])"
   ]
  },
  {
   "cell_type": "markdown",
   "id": "b4abc711",
   "metadata": {},
   "source": [
    "### Nice. Our data is all from a single quarter.\n",
    "\n",
    "#### What happens if it isn't?\n",
    "\n",
    "Let's see what happens if we use `a` and `c` which are _not_ in the same quarter..."
   ]
  },
  {
   "cell_type": "code",
   "execution_count": 26,
   "id": "377c5869",
   "metadata": {},
   "outputs": [
    {
     "name": "stdout",
     "output_type": "stream",
     "text": [
      "15-07-2021 (DD-MM-YYYY)\n",
      "[get_q] Different Years\n",
      "01-01-2022 --> 15-07-2021\n"
     ]
    }
   ],
   "source": [
    "c = date_list[0]\n",
    "c = dt.date(day=15, month=7, year=2021)\n",
    "\n",
    "print(f'{c:%d-%m-%Y} (DD-MM-YYYY)')\n",
    "\n",
    "print(get_q(a, c))"
   ]
  },
  {
   "cell_type": "markdown",
   "id": "5363d16a",
   "metadata": {},
   "source": [
    "### We take `a` and `c` as the date range start & end.\n",
    "\n",
    "### This kicks up a warning and spits out the data with the specific date range rather than a single quarter.\n",
    "\n",
    "The user may need to get the data re-extracted to fit the date ranges the RAC needs."
   ]
  },
  {
   "cell_type": "markdown",
   "id": "57bdeff2",
   "metadata": {},
   "source": [
    "### Let's complete the data and show the final table output"
   ]
  },
  {
   "cell_type": "code",
   "execution_count": 27,
   "id": "5a54fbbd",
   "metadata": {
    "scrolled": true
   },
   "outputs": [
    {
     "data": {
      "text/html": [
       "<div>\n",
       "<style scoped>\n",
       "    .dataframe tbody tr th:only-of-type {\n",
       "        vertical-align: middle;\n",
       "    }\n",
       "\n",
       "    .dataframe tbody tr th {\n",
       "        vertical-align: top;\n",
       "    }\n",
       "\n",
       "    .dataframe thead th {\n",
       "        text-align: right;\n",
       "    }\n",
       "</style>\n",
       "<table border=\"1\" class=\"dataframe\">\n",
       "  <thead>\n",
       "    <tr style=\"text-align: right;\">\n",
       "      <th></th>\n",
       "      <th>Aortogram</th>\n",
       "      <th>Abodmen (GI)</th>\n",
       "      <th>Urinary</th>\n",
       "      <th>Pelvis</th>\n",
       "      <th>Coronary</th>\n",
       "      <th>Brain</th>\n",
       "      <th>Thorax</th>\n",
       "      <th>Abdomen (GI)</th>\n",
       "      <th>HRCT</th>\n",
       "      <th>Pulm Angio</th>\n",
       "      <th>Head &amp; Neck</th>\n",
       "      <th>Limbs</th>\n",
       "      <th>CT Colono</th>\n",
       "      <th>Spine</th>\n",
       "      <th>Name</th>\n",
       "      <th>Date</th>\n",
       "    </tr>\n",
       "  </thead>\n",
       "  <tbody>\n",
       "    <tr>\n",
       "      <th>0</th>\n",
       "      <td>7</td>\n",
       "      <td>63</td>\n",
       "      <td>17</td>\n",
       "      <td>80</td>\n",
       "      <td>1</td>\n",
       "      <td>119</td>\n",
       "      <td>42</td>\n",
       "      <td>23</td>\n",
       "      <td>2</td>\n",
       "      <td>6</td>\n",
       "      <td>39</td>\n",
       "      <td>3</td>\n",
       "      <td>1</td>\n",
       "      <td>2</td>\n",
       "      <td>Dr Dave (12345A)</td>\n",
       "      <td>2022 Q1</td>\n",
       "    </tr>\n",
       "  </tbody>\n",
       "</table>\n",
       "</div>"
      ],
      "text/plain": [
       "   Aortogram  Abodmen (GI)  Urinary  Pelvis  Coronary  Brain  Thorax  \\\n",
       "0          7            63       17      80         1    119      42   \n",
       "\n",
       "   Abdomen (GI)  HRCT  Pulm Angio  Head & Neck  Limbs  CT Colono  Spine  \\\n",
       "0            23     2           6           39      3          1      2   \n",
       "\n",
       "               Name     Date  \n",
       "0  Dr Dave (12345A)  2022 Q1  "
      ]
     },
     "execution_count": 27,
     "metadata": {},
     "output_type": "execute_result"
    }
   ],
   "source": [
    "rac['Date'] = get_q(a, b)\n",
    "\n",
    "rac_df = pd.DataFrame(rac, index=[0])\n",
    "\n",
    "rac_df"
   ]
  },
  {
   "cell_type": "markdown",
   "id": "c0b65fdd",
   "metadata": {},
   "source": [
    "### But those columns are not in the same order!?! That's going to be horrible to transcribe!\n"
   ]
  },
  {
   "cell_type": "code",
   "execution_count": 28,
   "id": "6d34d3ee",
   "metadata": {},
   "outputs": [
    {
     "data": {
      "text/html": [
       "<div>\n",
       "<style scoped>\n",
       "    .dataframe tbody tr th:only-of-type {\n",
       "        vertical-align: middle;\n",
       "    }\n",
       "\n",
       "    .dataframe tbody tr th {\n",
       "        vertical-align: top;\n",
       "    }\n",
       "\n",
       "    .dataframe thead th {\n",
       "        text-align: right;\n",
       "    }\n",
       "</style>\n",
       "<table border=\"1\" class=\"dataframe\">\n",
       "  <thead>\n",
       "    <tr style=\"text-align: right;\">\n",
       "      <th></th>\n",
       "      <th>Name</th>\n",
       "      <th>Date</th>\n",
       "      <th>Brain</th>\n",
       "      <th>Head &amp; Neck</th>\n",
       "      <th>Thorax</th>\n",
       "      <th>HRCT</th>\n",
       "      <th>Pulm Angio</th>\n",
       "      <th>Aortogram</th>\n",
       "      <th>Coronary</th>\n",
       "      <th>Abodmen (GI)</th>\n",
       "      <th>CT Colono</th>\n",
       "      <th>Urinary</th>\n",
       "      <th>Pelvis</th>\n",
       "      <th>Spine</th>\n",
       "      <th>Limbs</th>\n",
       "    </tr>\n",
       "  </thead>\n",
       "  <tbody>\n",
       "    <tr>\n",
       "      <th>0</th>\n",
       "      <td>Dr Dave (12345A)</td>\n",
       "      <td>2022 Q1</td>\n",
       "      <td>119</td>\n",
       "      <td>39</td>\n",
       "      <td>42</td>\n",
       "      <td>2</td>\n",
       "      <td>6</td>\n",
       "      <td>7</td>\n",
       "      <td>1</td>\n",
       "      <td>63</td>\n",
       "      <td>1</td>\n",
       "      <td>17</td>\n",
       "      <td>80</td>\n",
       "      <td>2</td>\n",
       "      <td>3</td>\n",
       "    </tr>\n",
       "  </tbody>\n",
       "</table>\n",
       "</div>"
      ],
      "text/plain": [
       "               Name     Date  Brain  Head & Neck  Thorax  HRCT  Pulm Angio  \\\n",
       "0  Dr Dave (12345A)  2022 Q1    119           39      42     2           6   \n",
       "\n",
       "   Aortogram  Coronary  Abodmen (GI)  CT Colono  Urinary  Pelvis  Spine  Limbs  \n",
       "0          7         1            63          1       17      80      2      3  "
      ]
     },
     "execution_count": 28,
     "metadata": {},
     "output_type": "execute_result"
    }
   ],
   "source": [
    "col_order = [\n",
    " 'Name',\n",
    " 'Date',\n",
    " 'Brain',\n",
    " 'Head & Neck',\n",
    " 'Thorax',\n",
    " 'HRCT',\n",
    " 'Pulm Angio',\n",
    " 'Aortogram',\n",
    " 'Coronary',\n",
    " 'Abodmen (GI)',\n",
    " 'CT Colono',\n",
    " 'Urinary',\n",
    " 'Pelvis',\n",
    " 'Spine',\n",
    " 'Limbs',\n",
    "]\n",
    "\n",
    "rac_df = rac_df[col_order]\n",
    "\n",
    "rac_df"
   ]
  },
  {
   "cell_type": "markdown",
   "id": "01650ee1",
   "metadata": {},
   "source": [
    "### That's what we want!\n",
    "\n",
    "\n",
    "### But we have been beaten to it!  Dr Tranh Anh did this before! (He used R, not Python)\n",
    "\n",
    "<img src='images/AnhRACLogbookWebsite.jpg' width=800>"
   ]
  },
  {
   "cell_type": "markdown",
   "id": "b3452564",
   "metadata": {},
   "source": [
    "### All that code (a bit tidied up) is below."
   ]
  },
  {
   "cell_type": "code",
   "execution_count": 29,
   "id": "656989a4",
   "metadata": {
    "scrolled": true
   },
   "outputs": [
    {
     "data": {
      "text/html": [
       "<div>\n",
       "<style scoped>\n",
       "    .dataframe tbody tr th:only-of-type {\n",
       "        vertical-align: middle;\n",
       "    }\n",
       "\n",
       "    .dataframe tbody tr th {\n",
       "        vertical-align: top;\n",
       "    }\n",
       "\n",
       "    .dataframe thead th {\n",
       "        text-align: right;\n",
       "    }\n",
       "</style>\n",
       "<table border=\"1\" class=\"dataframe\">\n",
       "  <thead>\n",
       "    <tr style=\"text-align: right;\">\n",
       "      <th></th>\n",
       "      <th>Name</th>\n",
       "      <th>Date</th>\n",
       "      <th>Brain</th>\n",
       "      <th>Head &amp; Neck</th>\n",
       "      <th>Thorax</th>\n",
       "      <th>HRCT</th>\n",
       "      <th>Pulm Angio</th>\n",
       "      <th>Aortogram</th>\n",
       "      <th>Coronary</th>\n",
       "      <th>Abodmen (GI)</th>\n",
       "      <th>CT Colono</th>\n",
       "      <th>Urinary</th>\n",
       "      <th>Pelvis</th>\n",
       "      <th>Spine</th>\n",
       "      <th>Limbs</th>\n",
       "    </tr>\n",
       "  </thead>\n",
       "  <tbody>\n",
       "    <tr>\n",
       "      <th>0</th>\n",
       "      <td>Dr Dave (12345A)</td>\n",
       "      <td>2022 Q1</td>\n",
       "      <td>119</td>\n",
       "      <td>39</td>\n",
       "      <td>42</td>\n",
       "      <td>2</td>\n",
       "      <td>6</td>\n",
       "      <td>7</td>\n",
       "      <td>1</td>\n",
       "      <td>63</td>\n",
       "      <td>1</td>\n",
       "      <td>17</td>\n",
       "      <td>80</td>\n",
       "      <td>2</td>\n",
       "      <td>3</td>\n",
       "    </tr>\n",
       "  </tbody>\n",
       "</table>\n",
       "</div>"
      ],
      "text/plain": [
       "               Name     Date  Brain  Head & Neck  Thorax  HRCT  Pulm Angio  \\\n",
       "0  Dr Dave (12345A)  2022 Q1    119           39      42     2           6   \n",
       "\n",
       "   Aortogram  Coronary  Abodmen (GI)  CT Colono  Urinary  Pelvis  Spine  Limbs  \n",
       "0          7         1            63          1       17      80      2      3  "
      ]
     },
     "execution_count": 29,
     "metadata": {},
     "output_type": "execute_result"
    }
   ],
   "source": [
    "import pandas as pd\n",
    "import openpyxl\n",
    "import datefinder\n",
    "import datetime as dt\n",
    "from collections import defaultdict\n",
    "\n",
    "xls_file = 'sample.xlsx'\n",
    "\n",
    "df = pd.read_excel(xls_file, header=2)\n",
    "\n",
    "# Initial tidy up\n",
    "df = df.dropna()\n",
    "df = df[['Modality', 'Procedure Name', 'Total Read']]\n",
    "\n",
    "# Let's only look at CT\n",
    "ct_only = df[df['Modality'] == 'Computed Tomography']\n",
    "\n",
    "lookup_dict = {\n",
    "    'CT Aortogram (Chest, Abdomen)': ['Aortogram'],\n",
    "    'CT Abdomen': ['Abodmen (GI)'],\n",
    "    'CT Kidneys': ['Urinary'],\n",
    "    'CT Liver': ['Abodmen (GI)'],\n",
    "    'CT Pancreas': ['Abodmen (GI)'],\n",
    "    'CT Abdomen and Pelvis': ['Abodmen (GI)', 'Pelvis'],\n",
    "    'CT Aortogram (Thoracic)': ['Aortogram'],\n",
    "    'CT Coronary Angiogram': ['Coronary'],\n",
    "    'CT Mesenteric Angiogram': ['Aortogram'],\n",
    "    'CT Brain': ['Brain'],\n",
    "    'CT Chest': ['Thorax'],\n",
    "    'CT Chest and Abdomen': ['Thorax','Abdomen (GI)'],\n",
    "    'CT Chest, Abdomen and Pelvis': ['Thorax', 'Abdomen (GI)', 'Pelvis'],\n",
    "    'CT Chest, High Resolution': ['HRCT'],\n",
    "    'CT Chest (Pulmonary Angiography)': ['Pulm Angio'],\n",
    "    'CT Chest Wall': ['Thorax'],\n",
    "    'CT Face (Facial Bone)': ['Head & Neck'],\n",
    "    'CT Right Foot': ['Limbs'],\n",
    "    'CT Urography': ['Urinary'],\n",
    "    'CT Left Knee': ['Limbs'],\n",
    "    'CT Temporal Bone': ['Head & Neck'],\n",
    "    'CT Neck': ['Head & Neck'],\n",
    "    'CT Colonography': ['CT Colono'],\n",
    "    'CT Pelvis': ['Pelvis'],\n",
    "    'CT Pelvis Bony': ['Pelvis'],\n",
    "    'CT Salivary Glands, Parotid': ['Head & Neck'],\n",
    "    'CT Paranasal Sinuses': ['Head & Neck'],\n",
    "    'CT Cervical Spine': ['Spine'],\n",
    "    'CT KUB (Non Contrast)': ['Urinary'],\n",
    "    'CT Right Wrist': ['Limbs'],\n",
    "}\n",
    "\n",
    "\n",
    "# Make our initial dict to store data before adding to the DF\n",
    "def default_value():\n",
    "    return 0\n",
    "\n",
    "rac = defaultdict(default_value)\n",
    "\n",
    "# Run the numbers\n",
    "for idx, row in ct_only.iterrows():\n",
    "    p_name = lookup_dict[row['Procedure Name']]\n",
    "\n",
    "    for col in p_name:\n",
    "        rac[col] = int(rac[col] + row['Total Read'])\n",
    "\n",
    "\n",
    "# Get Name and Dates\n",
    "wb_obj = openpyxl.load_workbook(xls_file)\n",
    "sheet_obj = wb_obj.active\n",
    "\n",
    "date_list = list(datefinder.find_dates(sheet_obj['B1'].value))\n",
    "\n",
    "def get_q(a, b):\n",
    "    if a.year != b.year:\n",
    "        print('[get_q] Different Years')\n",
    "        return f'{a:%d-%m-%Y} --> {b:%d-%m-%Y}'\n",
    "    else:\n",
    "        if a.month in [1,2,3] and b.month in [1,2,3]:\n",
    "            q = 'Q1'\n",
    "        elif a.month in [4,5,6] and b.month in [4,5,6]:\n",
    "            q = 'Q2'\n",
    "        elif a.month in [7,8,9] and b.month in [7,8,9]:\n",
    "            q = 'Q3'\n",
    "        elif a.month in [10,11,12] and b.month in [10,11,12]:\n",
    "            q = 'Q4'\n",
    "        else:\n",
    "            print('[get_q] Different quarters')\n",
    "            return f'{a:%d-%m-%Y} --> {b:%d-%m-%Y}'\n",
    "        return f'{a.year} {q}'\n",
    "\n",
    "\n",
    "rac['Name'] = sheet_obj['A4'].value\n",
    "rac['Date'] = get_q(date_list[0], date_list[1])\n",
    "\n",
    "rac_df = pd.DataFrame(rac, index=[0])\n",
    "\n",
    "col_order = [\n",
    " 'Name',\n",
    " 'Date',\n",
    " 'Brain',\n",
    " 'Head & Neck',\n",
    " 'Thorax',\n",
    " 'HRCT',\n",
    " 'Pulm Angio',\n",
    " 'Aortogram',\n",
    " 'Coronary',\n",
    " 'Abodmen (GI)',\n",
    " 'CT Colono',\n",
    " 'Urinary',\n",
    " 'Pelvis',\n",
    " 'Spine',\n",
    " 'Limbs',\n",
    "]\n",
    "\n",
    "# Final Result!\n",
    "rac_df = rac_df[col_order]\n",
    "\n",
    "rac_df"
   ]
  },
  {
   "cell_type": "markdown",
   "id": "3dd32278",
   "metadata": {},
   "source": [
    "## And Finally...\n",
    "\n",
    "#### Here's a low-rent <u><b>online</b></u> version using exactly this code!\n",
    "\n",
    "### <a href=\"https://r4lectures.pythonanywhere.com\">r4lectures.pythonanywhere.com</a>\n",
    "\n",
    "<img src='images/qrcode.jpeg' width=300>\n"
   ]
  }
 ],
 "metadata": {
  "kernelspec": {
   "display_name": "Python 3 (ipykernel)",
   "language": "python",
   "name": "python3"
  },
  "language_info": {
   "codemirror_mode": {
    "name": "ipython",
    "version": 3
   },
   "file_extension": ".py",
   "mimetype": "text/x-python",
   "name": "python",
   "nbconvert_exporter": "python",
   "pygments_lexer": "ipython3",
   "version": "3.9.6"
  }
 },
 "nbformat": 4,
 "nbformat_minor": 5
}

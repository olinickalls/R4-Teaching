{
 "cells": [
  {
   "cell_type": "markdown",
   "metadata": {},
   "source": [
    "# DICOM introduction\n",
    "\n",
    "### Working with DICOM is easy in Python\n",
    "\n",
    "1. Import the tool that we will use to work with DICOM."
   ]
  },
  {
   "cell_type": "code",
   "execution_count": null,
   "metadata": {},
   "outputs": [],
   "source": [
    "import pydicom"
   ]
  },
  {
   "cell_type": "markdown",
   "metadata": {},
   "source": [
    "### Now we are good.\n",
    "\n",
    "Lets load the DICOM file 'C:\\Users\\oli_n\\Desktop\\SynoWork\\Presentations\\R4 Python\\DICOM\\US.dcm'"
   ]
  },
  {
   "cell_type": "code",
   "execution_count": null,
   "metadata": {},
   "outputs": [],
   "source": [
    "ds = pydicom.dcmread('US.dcm')\n",
    "# ds = pydicom.dcmread(r'D:\\1.3.6.1.4.1.25403.154027277515425.16036.20210617022156.1\\1.3.6.1.4.1.25403.154027277515425.16036.20210617022156.3.dcm')\n"
   ]
  },
  {
   "cell_type": "markdown",
   "metadata": {},
   "source": [
    "### Easy. Let's explore.\n",
    "\n",
    "Firstly, let's take the pixel data and make an image object using the Pillow (PIL) library."
   ]
  },
  {
   "cell_type": "code",
   "execution_count": null,
   "metadata": {},
   "outputs": [],
   "source": [
    "from PIL import Image\n",
    "dicom_img = Image.fromarray(ds.pixel_array)"
   ]
  },
  {
   "cell_type": "markdown",
   "metadata": {},
   "source": [
    "#### Let's display the image."
   ]
  },
  {
   "cell_type": "code",
   "execution_count": null,
   "metadata": {
    "scrolled": false
   },
   "outputs": [],
   "source": [
    "dicom_img"
   ]
  },
  {
   "cell_type": "markdown",
   "metadata": {},
   "source": [
    "#### Now let's have a look at the metadata"
   ]
  },
  {
   "cell_type": "code",
   "execution_count": null,
   "metadata": {
    "scrolled": true
   },
   "outputs": [],
   "source": [
    "ds"
   ]
  },
  {
   "cell_type": "markdown",
   "metadata": {},
   "source": [
    "#### One more thing- let's not forget the 'preamble' which also needs inspecting."
   ]
  },
  {
   "cell_type": "code",
   "execution_count": null,
   "metadata": {},
   "outputs": [],
   "source": [
    "ds.preamble"
   ]
  },
  {
   "cell_type": "markdown",
   "metadata": {},
   "source": [
    "## Let's Anonymise the DICOM.\n",
    "\n",
    "Anonymise by individual tags."
   ]
  },
  {
   "cell_type": "code",
   "execution_count": null,
   "metadata": {},
   "outputs": [],
   "source": [
    "ds.PatientName = 'Anonymouse'\n",
    "ds.PatientID = 'MouseZero'\n",
    "\n",
    "ds.StudyID = 'SEUS123456'\n",
    "ds.InstitutionName = 'St Elsewhere'\n",
    "ds.ReferringPhysicianName = 'Dr Dave'\n",
    "ds.StationName = 'US Room'"
   ]
  },
  {
   "cell_type": "markdown",
   "metadata": {},
   "source": [
    "### Explore by Value Representation (VR)\n",
    "\n",
    "Different DICOM tags have different content types and therefore different rules of what content is allowed.\n",
    "\n",
    "The complete list of these and exact descriptions of content can be found here:\n",
    "\n",
    "http://dicom.nema.org/dicom/2013/output/chtml/part05/sect_6.2.html"
   ]
  },
  {
   "cell_type": "code",
   "execution_count": null,
   "metadata": {},
   "outputs": [],
   "source": [
    "\n",
    "def person_name_callback(dataset, data_element):\n",
    "    if data_element.VR == 'PN':\n",
    "        print(f'Person Name Tag: {data_element.description()}: \"{data_element.value}\"')\n",
    "        data_element.value = 'Anonymous person'\n",
    "\n",
    "ds.walk(person_name_callback)\n"
   ]
  },
  {
   "cell_type": "markdown",
   "metadata": {},
   "source": [
    "This is quite a powerful technique.\n",
    "\n",
    "It can be altered to replace all names (VR == 'PN') or all dates (VR == 'DA') etc."
   ]
  },
  {
   "cell_type": "markdown",
   "metadata": {},
   "source": [
    "### Private Tags\n",
    "\n",
    "These are NOT specified in the DICOM stadard and are inserted by Manufacturers for their own purposes.\n",
    "\n",
    "- Standard tags have an EVEN numbered group.\n",
    "\n",
    "- Private tags have an ODD numbered group.\n"
   ]
  },
  {
   "cell_type": "code",
   "execution_count": null,
   "metadata": {
    "scrolled": true
   },
   "outputs": [],
   "source": [
    "foot_ds = pydicom.read_file('foot.dcm')"
   ]
  },
  {
   "cell_type": "code",
   "execution_count": null,
   "metadata": {
    "scrolled": true
   },
   "outputs": [],
   "source": [
    "foot_ds"
   ]
  },
  {
   "cell_type": "markdown",
   "metadata": {},
   "source": [
    "#### Note the private tags e.g.:\n",
    "\n",
    "- (0017, 0010) Private Creator                     LO: 'ACME GruntMaster 9000'\n",
    "\n",
    "and:\n",
    "\n",
    "- (07a3, 1018) Private tag data                    ST: 'Mr John Smith has an ouchy foot. Trodden on by badger.'\n",
    "\n",
    "#### Also note the PHI in an unexpected location:\n",
    "\n",
    "- (0010, 2110) Allergies                           LO: 'NKDA. But John Smith (X123456789) has faecal incontinence with milk.'\n",
    "\n",
    "#### Let's remove all those pesky private tags:"
   ]
  },
  {
   "cell_type": "code",
   "execution_count": null,
   "metadata": {},
   "outputs": [],
   "source": [
    "\n",
    "def remove_private_tags(dataset, data_element):\n",
    "    if data_element.tag.group % 2 != 0:\n",
    "        del dataset[data_element.tag]\n",
    "\n",
    "foot_ds.walk(remove_private_tags)\n"
   ]
  },
  {
   "cell_type": "markdown",
   "metadata": {},
   "source": [
    "#### Or alternatively, you can just do this.  Because it's easier."
   ]
  },
  {
   "cell_type": "code",
   "execution_count": null,
   "metadata": {},
   "outputs": [],
   "source": [
    "foot_ds.remove_private_tags()"
   ]
  },
  {
   "cell_type": "markdown",
   "metadata": {},
   "source": [
    "# Done!\n",
    "\n",
    "## Save the anonymised DICOM\n"
   ]
  },
  {
   "cell_type": "code",
   "execution_count": null,
   "metadata": {},
   "outputs": [],
   "source": [
    "ds.save_as('anonymised.dcm')\n"
   ]
  },
  {
   "cell_type": "markdown",
   "metadata": {},
   "source": [
    "### But there's more!\n",
    "\n",
    ".\n",
    "\n",
    ".\n",
    "\n",
    ".\n",
    "\n",
    ".\n",
    "\n",
    ".\n",
    "\n",
    ".\n",
    "\n",
    ".\n",
    "\n",
    ".\n",
    "\n",
    ".\n",
    "\n",
    ".\n",
    "\n",
    ".\n",
    "\n",
    ".\n",
    "\n",
    ".\n",
    "\n",
    ".\n",
    "\n",
    ".\n",
    "\n",
    ".\n",
    "\n",
    ".\n",
    "\n",
    ".\n",
    "\n",
    ".\n",
    "\n",
    ".\n",
    "\n"
   ]
  },
  {
   "cell_type": "markdown",
   "metadata": {},
   "source": [
    "# Go the extra mile... The image still shows burned-in data - Pt name, IC etc.\n",
    "\n",
    "### Let's use Tesseract to do OCR and feed us the text details.  We will use a wrapper function called 'pyTesseract' to allow us to interact with Tesseract.\n",
    "\n",
    "for those who want to try this for themselves you will need to install both Tesseract _and_ pyTesseract\n",
    "\n",
    "Tesseract: https://github.com/tesseract-ocr/tesseract#installing-tesseract\n",
    "\n",
    "PyTesseract: https://pypi.org/project/pytesseract/"
   ]
  },
  {
   "cell_type": "code",
   "execution_count": null,
   "metadata": {},
   "outputs": [],
   "source": [
    "from PIL import Image, ImageDraw\n",
    "import pytesseract\n",
    "\n",
    "# If you don't have the tesseract executable in your PATH, include the following line:\n",
    "# This works in my windows installation but will need to be changed to match your setup.\n",
    "\n",
    "pytesseract.pytesseract.tesseract_cmd = r'C:\\Users\\oli_n\\AppData\\Local\\Programs\\Tesseract-OCR\\tesseract.exe'\n",
    "#                                                  ^^^^^ This bit will probably need to be changed\n",
    "#                                                        according to your system."
   ]
  },
  {
   "cell_type": "code",
   "execution_count": null,
   "metadata": {},
   "outputs": [],
   "source": [
    "txt_data = pytesseract.image_to_data(dicom_img, output_type='dict')\n",
    "\n",
    "# We run this twice as this one produces nicely formatted output.\n",
    "print(pytesseract.image_to_data(dicom_img))\n"
   ]
  },
  {
   "cell_type": "markdown",
   "metadata": {},
   "source": [
    "### Now we know what the text is and where it is, we can look through the list and blank it all out.\n",
    "\n",
    "We will use the Pillow (PIL) library to draw a rectangle of colour #800080 (which is somewhat purple) over each of the text fields."
   ]
  },
  {
   "cell_type": "markdown",
   "metadata": {},
   "source": [
    "### There are many ways to do this, but for ease of use I have made a single function that will mark the text on a given image, based on the text data from Tesseract.\n",
    "\n",
    "\n",
    "- create the ImageDraw object to allow it to edit the image\n",
    "\n",
    "- Run through the list of text found\n",
    "\n",
    "- Filter out the empty fields - tesseract is good but not perfect right out of the box\n",
    "\n",
    "- Highlight text with a rectangle\n",
    "\n",
    "If anyone is interested, it can be trained on new data to better recognise the fonts from US machines!\n"
   ]
  },
  {
   "cell_type": "code",
   "execution_count": null,
   "metadata": {},
   "outputs": [],
   "source": [
    "# Single function to mark the text -just provide the PIL image and the Tesseract text data\n",
    "def mark_text(img, txt_data):\n",
    "    img1 = ImageDraw.Draw(img)\n",
    "    \n",
    "    for i in range(len(txt_data['level'])):\n",
    "\n",
    "        if txt_data['text'][i].strip() == '':\n",
    "            continue\n",
    "        #if float(txt_data['conf'][i]) < 50:\n",
    "        #    continue\n",
    "\n",
    "        left = txt_data['left'][i]\n",
    "        right = left + txt_data['width'][i]\n",
    "        top = txt_data['top'][i]\n",
    "        bottom = top + txt_data['height'][i]\n",
    "        txt = txt_data['text'][i]\n",
    "\n",
    "        print(f'{i}: ({left},{top})-({bottom},{right})\\t\"{txt}\"')\n",
    "\n",
    "        shape = [(left, top), (right + 1, bottom + 1)]\n",
    "        img1.rectangle(shape, outline = \"#FF8822\")\n",
    "        img1.rectangle(shape, fill =\"#800080\")\n"
   ]
  },
  {
   "cell_type": "code",
   "execution_count": null,
   "metadata": {},
   "outputs": [],
   "source": [
    "mark_text(dicom_img, txt_data)\n",
    "dicom_img"
   ]
  },
  {
   "cell_type": "code",
   "execution_count": null,
   "metadata": {},
   "outputs": [],
   "source": [
    "test_dicom = Image.fromarray(ds.pixel_array)\n",
    "dicom_bw = test_dicom.convert('L')\n",
    "dicom_bw"
   ]
  },
  {
   "cell_type": "code",
   "execution_count": null,
   "metadata": {},
   "outputs": [],
   "source": [
    "THRESHOLD = 0.75 * 255\n",
    "\n",
    "def pixelThreshold(intensity):\n",
    "    if intensity > THRESHOLD:\n",
    "        return intensity\n",
    "#         return 255\n",
    "    else:\n",
    "        return 0\n",
    "\n",
    "highpass_img = dicom_bw.point(pixelThreshold)\n",
    "\n",
    "highpass_img"
   ]
  },
  {
   "cell_type": "code",
   "execution_count": null,
   "metadata": {},
   "outputs": [],
   "source": [
    "print(pytesseract.image_to_data(highpass_img))\n",
    "\n",
    "highpass_txt_data = pytesseract.image_to_data(highpass_img, output_type='dict')\n"
   ]
  },
  {
   "cell_type": "code",
   "execution_count": null,
   "metadata": {},
   "outputs": [],
   "source": [
    "dicom_bw2 = highpass_img.convert('RGB')\n",
    "\n",
    "mark_text(img = dicom_bw2, txt_data = highpass_txt_data)"
   ]
  },
  {
   "cell_type": "code",
   "execution_count": null,
   "metadata": {},
   "outputs": [],
   "source": [
    "dicom_bw2"
   ]
  },
  {
   "cell_type": "code",
   "execution_count": null,
   "metadata": {
    "scrolled": false
   },
   "outputs": [],
   "source": [
    "dicom_bw3 = dicom_img.copy()\n",
    "\n",
    "mark_text(img = dicom_bw3, txt_data = highpass_txt_data)\n",
    "\n",
    "mark_text(img = dicom_bw3, txt_data = txt_data)\n",
    "\n",
    "dicom_bw3"
   ]
  },
  {
   "cell_type": "markdown",
   "metadata": {},
   "source": [
    "# Thank you!\n",
    "\n",
    "The libraries used were:\n",
    "\n",
    "- pydicom: https://pypi.org/project/pydicom/\n",
    "- Pillow: https://pypi.org/project/Pillow/\n",
    "- numpy: https://pypi.org/project/numpy/\n",
    "- pyTesseract: https://pypi.org/project/pytesseract/\n"
   ]
  }
 ],
 "metadata": {
  "kernelspec": {
   "display_name": "Python 3 (ipykernel)",
   "language": "python",
   "name": "python3"
  },
  "language_info": {
   "codemirror_mode": {
    "name": "ipython",
    "version": 3
   },
   "file_extension": ".py",
   "mimetype": "text/x-python",
   "name": "python",
   "nbconvert_exporter": "python",
   "pygments_lexer": "ipython3",
   "version": "3.9.6"
  }
 },
 "nbformat": 4,
 "nbformat_minor": 4
}
